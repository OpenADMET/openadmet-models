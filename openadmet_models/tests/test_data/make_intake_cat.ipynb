{
 "cells": [
  {
   "cell_type": "code",
   "execution_count": 1,
   "id": "5913e6ad-4655-4028-8a95-a42d527dd3d2",
   "metadata": {},
   "outputs": [],
   "source": [
    "import intake"
   ]
  },
  {
   "cell_type": "code",
   "execution_count": 9,
   "id": "abf9b1be-8e7c-4091-a901-0b756b68b119",
   "metadata": {},
   "outputs": [],
   "source": [
    "cat = intake.entry.Catalog()\n",
    "source = intake.readers.PandasCSV('./test_data.csv')"
   ]
  },
  {
   "cell_type": "code",
   "execution_count": 10,
   "id": "e277735d-b010-4c83-824d-0c61e24640a4",
   "metadata": {},
   "outputs": [],
   "source": [
    "cat[\"full\"] = source"
   ]
  },
  {
   "cell_type": "code",
   "execution_count": 12,
   "id": "974aa002-e5cf-4239-96f6-a39f093409c3",
   "metadata": {},
   "outputs": [],
   "source": [
    "cat[\"subsel\"] = cat.full.drop(columns=\"data2\")"
   ]
  },
  {
   "cell_type": "code",
   "execution_count": 13,
   "id": "1435d818-a423-4494-9db4-2e83c843b16d",
   "metadata": {},
   "outputs": [],
   "source": [
    "cat.to_yaml_file(\"example_intake.yaml\")"
   ]
  },
  {
   "cell_type": "code",
   "execution_count": 15,
   "id": "ebceda3b-1041-49ca-891e-d9da337b10ad",
   "metadata": {},
   "outputs": [
    {
     "data": {
      "text/plain": [
       "\u001b[0;31mInit signature:\u001b[0m\n",
       "\u001b[0mintake\u001b[0m\u001b[0;34m.\u001b[0m\u001b[0mCatalog\u001b[0m\u001b[0;34m(\u001b[0m\u001b[0;34m\u001b[0m\n",
       "\u001b[0;34m\u001b[0m    \u001b[0mentries\u001b[0m\u001b[0;34m:\u001b[0m \u001b[0;34m'Iterable[ReaderDescription] | Mapping | None'\u001b[0m \u001b[0;34m=\u001b[0m \u001b[0;32mNone\u001b[0m\u001b[0;34m,\u001b[0m\u001b[0;34m\u001b[0m\n",
       "\u001b[0;34m\u001b[0m    \u001b[0maliases\u001b[0m\u001b[0;34m:\u001b[0m \u001b[0;34m'dict[str, int] | None'\u001b[0m \u001b[0;34m=\u001b[0m \u001b[0;32mNone\u001b[0m\u001b[0;34m,\u001b[0m\u001b[0;34m\u001b[0m\n",
       "\u001b[0;34m\u001b[0m    \u001b[0mdata\u001b[0m\u001b[0;34m:\u001b[0m \u001b[0;34m'Iterable[DataDescription] | Mapping'\u001b[0m \u001b[0;34m=\u001b[0m \u001b[0;32mNone\u001b[0m\u001b[0;34m,\u001b[0m\u001b[0;34m\u001b[0m\n",
       "\u001b[0;34m\u001b[0m    \u001b[0muser_parameters\u001b[0m\u001b[0;34m:\u001b[0m \u001b[0;34m'dict[str, BaseUserParameter] | None'\u001b[0m \u001b[0;34m=\u001b[0m \u001b[0;32mNone\u001b[0m\u001b[0;34m,\u001b[0m\u001b[0;34m\u001b[0m\n",
       "\u001b[0;34m\u001b[0m    \u001b[0mparameter_overrides\u001b[0m\u001b[0;34m:\u001b[0m \u001b[0;34m'dict[str, Any] | None'\u001b[0m \u001b[0;34m=\u001b[0m \u001b[0;32mNone\u001b[0m\u001b[0;34m,\u001b[0m\u001b[0;34m\u001b[0m\n",
       "\u001b[0;34m\u001b[0m    \u001b[0mmetadata\u001b[0m\u001b[0;34m:\u001b[0m \u001b[0;34m'dict | None'\u001b[0m \u001b[0;34m=\u001b[0m \u001b[0;32mNone\u001b[0m\u001b[0;34m,\u001b[0m\u001b[0;34m\u001b[0m\n",
       "\u001b[0;34m\u001b[0m\u001b[0;34m)\u001b[0m\u001b[0;34m\u001b[0m\u001b[0;34m\u001b[0m\u001b[0m\n",
       "\u001b[0;31mDocstring:\u001b[0m      A collection of data and reader descriptions.\n",
       "\u001b[0;31mFile:\u001b[0m           ~/miniconda3/envs/openadmet_models/lib/python3.10/site-packages/intake/readers/entry.py\n",
       "\u001b[0;31mType:\u001b[0m           type\n",
       "\u001b[0;31mSubclasses:\u001b[0m     THREDDSCatalog"
      ]
     },
     "metadata": {},
     "output_type": "display_data"
    }
   ],
   "source": [
    "intake.Catalog?"
   ]
  },
  {
   "cell_type": "code",
   "execution_count": 17,
   "id": "fee4c59f-7143-4027-ac7a-14ee08d8d166",
   "metadata": {},
   "outputs": [
    {
     "data": {
      "text/plain": [
       "intake.readers.datatypes.CatalogFile"
      ]
     },
     "execution_count": 17,
     "metadata": {},
     "output_type": "execute_result"
    }
   ],
   "source": [
    "    intake.(\"./example_intake.yaml\")[0]"
   ]
  },
  {
   "cell_type": "code",
   "execution_count": 30,
   "id": "a555fe22-d075-4486-9820-834cdda2e182",
   "metadata": {},
   "outputs": [
    {
     "data": {
      "text/plain": [
       "PipelineReader: \n",
       "\n",
       "  0: intake.readers.readers:PandasCSV, () {} => pandas:DataFrame\n",
       "  1: DataFrameToMetadata, () {} => builtins:dict"
      ]
     },
     "execution_count": 30,
     "metadata": {},
     "output_type": "execute_result"
    }
   ],
   "source": [
    "intake.auto_pipeline(\"./test_data.csv\")"
   ]
  },
  {
   "cell_type": "code",
   "execution_count": 26,
   "id": "e70045b0-f04d-4eac-bb6c-17172a991924",
   "metadata": {},
   "outputs": [
    {
     "data": {
      "text/plain": [
       "{'repr': '  SMILES   data1   data2    \\n0    CCO       1       2 NaN\\n1   CCC0       3       4 NaN\\n2  CCCCC       5       6 NaN',\n",
       " 'shape': ['3', '4'],\n",
       " 'memory': '383',\n",
       " 'schema': ['object', 'int64', 'int64', 'float64']}"
      ]
     },
     "execution_count": 26,
     "metadata": {},
     "output_type": "execute_result"
    }
   ],
   "source": []
  },
  {
   "cell_type": "code",
   "execution_count": null,
   "id": "67149846-3d2c-48aa-a5c8-5f41de7a22cf",
   "metadata": {},
   "outputs": [],
   "source": []
  }
 ],
 "metadata": {
  "kernelspec": {
   "display_name": "Python 3 (ipykernel)",
   "language": "python",
   "name": "python3"
  },
  "language_info": {
   "codemirror_mode": {
    "name": "ipython",
    "version": 3
   },
   "file_extension": ".py",
   "mimetype": "text/x-python",
   "name": "python",
   "nbconvert_exporter": "python",
   "pygments_lexer": "ipython3",
   "version": "3.10.16"
  }
 },
 "nbformat": 4,
 "nbformat_minor": 5
}
