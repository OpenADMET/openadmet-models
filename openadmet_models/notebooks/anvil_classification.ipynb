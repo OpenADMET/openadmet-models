{
 "cells": [
  {
   "cell_type": "code",
   "execution_count": null,
   "metadata": {},
   "outputs": [],
   "source": [
    "from os.path import expanduser\n",
    "\n",
    "import datamol as dm\n",
    "import lightgbm as lgb\n",
    "import numpy as np\n",
    "import pandas as pd\n",
    "from molfeat.trans import MoleculeTransformer\n",
    "from molfeat.trans.fp import FPVecTransformer\n",
    "from sklearn.metrics import accuracy_score\n",
    "from sklearn.model_selection import train_test_split\n",
    "\n",
    "from openadmet_models.anvil.anvil_workflow import AnvilSpecification"
   ]
  },
  {
   "cell_type": "markdown",
   "metadata": {},
   "source": [
    "### Convert target data to categorical"
   ]
  },
  {
   "cell_type": "code",
   "execution_count": 77,
   "metadata": {},
   "outputs": [
    {
     "name": "stdout",
     "output_type": "stream",
     "text": [
      "Conc:\t\t30.0 uM\n",
      "Threshold:\t4.52\n",
      "N negatives:\t503\n",
      "frac negatives:\t8.281%\n"
     ]
    }
   ],
   "source": [
    "# Configure database and threshold\n",
    "db = \"ache_chembl\"\n",
    "conc_thresh = 30  # uM\n",
    "pchembl_thresh = -np.log10(conc_thresh * 1e-6)\n",
    "\n",
    "# Construct data frame\n",
    "df = pd.read_parquet(expanduser(f\"~/sandbox/databases/{db}/source/{db}.parquet\"))\n",
    "df[\"is_active\"] = df[\"pchembl_value\"] > pchembl_thresh\n",
    "\n",
    "# Stats\n",
    "print(\"Conc:\\t\\t{:.1f} uM\".format(conc_thresh))\n",
    "print(\"Threshold:\\t{:.2f}\".format(pchembl_thresh))\n",
    "print(\"N negatives:\\t{}\".format(np.sum(df[\"pchembl_value\"] <= pchembl_thresh)))\n",
    "print(\n",
    "    \"frac negatives:\\t{:.3f}%\".format(\n",
    "        100 * np.sum(df[\"pchembl_value\"] <= log_thresh) / len(df)\n",
    "    )\n",
    ")"
   ]
  },
  {
   "cell_type": "markdown",
   "metadata": {},
   "source": [
    "### \"Manual\" classification"
   ]
  },
  {
   "cell_type": "code",
   "execution_count": 81,
   "metadata": {},
   "outputs": [],
   "source": [
    "X = df[\"PARENT_SMILES\"].values\n",
    "y = df[\"is_active\"].values\n",
    "\n",
    "X_train, X_test, y_train, y_test = train_test_split(X, y)"
   ]
  },
  {
   "cell_type": "code",
   "execution_count": null,
   "metadata": {},
   "outputs": [],
   "source": [
    "vec_featurizer = FPVecTransformer(\"ecfp:4\", dtype=np.float32)\n",
    "trans = MoleculeTransformer(\n",
    "    vec_featurizer,\n",
    "    n_jobs=-1,\n",
    "    dtype=np.float32,\n",
    "    parallel_kwargs={\"progress\": True},\n",
    "    verbose=False,\n",
    ")\n",
    "\n",
    "with dm.without_rdkit_log():\n",
    "    X_train_feat, _ = trans(X_train, ignore_errors=True)\n",
    "    X_test_feat, _ = trans(X_test, ignore_errors=True)\n",
    "\n",
    "X_train_feat = np.squeeze(X_train_feat)\n",
    "X_test_feat = np.squeeze(X_test_feat)\n"
   ]
  },
  {
   "cell_type": "code",
   "execution_count": 94,
   "metadata": {},
   "outputs": [
    {
     "name": "stdout",
     "output_type": "stream",
     "text": [
      "Accuracy: 0.9263\n",
      "Null accuracy: 0.9236\n"
     ]
    }
   ],
   "source": [
    "# Create LightGBM dataset\n",
    "train_data = lgb.Dataset(X_train_feat, label=y_train)\n",
    "test_data = lgb.Dataset(X_test_feat, label=y_test, reference=train_data)\n",
    "\n",
    "# Set model parameters\n",
    "params = {\n",
    "    \"objective\": \"binary\",\n",
    "    \"metric\": \"binary_error\",\n",
    "    \"boosting_type\": \"gbdt\",\n",
    "    \"learning_rate\": 0.1,\n",
    "    \"num_leaves\": 31,\n",
    "    \"verbose\": -1,\n",
    "}\n",
    "\n",
    "# Train model\n",
    "model = lgb.train(\n",
    "    params,\n",
    "    train_data,\n",
    "    valid_sets=[test_data],\n",
    "    num_boost_round=100,\n",
    ")\n",
    "\n",
    "# Predict on test set\n",
    "y_pred = (model.predict(X_test_feat) > 0.5).astype(int)\n",
    "\n",
    "# Evaluate accuracy\n",
    "accuracy = accuracy_score(y_test, y_pred)\n",
    "null = np.sum(y_test) / len(y_test)\n",
    "\n",
    "print(f\"Accuracy: {accuracy:.4f}\")\n",
    "print(f\"Null accuracy: {null:.4f}\")"
   ]
  },
  {
   "cell_type": "markdown",
   "metadata": {},
   "source": [
    "### Run basic anvil (regression)"
   ]
  },
  {
   "cell_type": "code",
   "execution_count": null,
   "metadata": {},
   "outputs": [],
   "source": [
    "spec = AnvilSpecification.from_recipe(\"anvil_recipe.yaml\")\n",
    "wf = spec.to_workflow()\n",
    "wf.run(debug=False, output_dir=\"output/\")"
   ]
  }
 ],
 "metadata": {
  "kernelspec": {
   "display_name": "compchem",
   "language": "python",
   "name": "python3"
  },
  "language_info": {
   "codemirror_mode": {
    "name": "ipython",
    "version": 3
   },
   "file_extension": ".py",
   "mimetype": "text/x-python",
   "name": "python",
   "nbconvert_exporter": "python",
   "pygments_lexer": "ipython3",
   "version": "3.12.8"
  }
 },
 "nbformat": 4,
 "nbformat_minor": 2
}
